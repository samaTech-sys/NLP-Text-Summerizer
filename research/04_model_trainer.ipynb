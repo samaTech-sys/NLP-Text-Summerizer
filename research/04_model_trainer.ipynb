{
 "cells": [
  {
   "cell_type": "markdown",
   "id": "9ccb5682",
   "metadata": {},
   "source": [
    "## Model Trainer Trial-runs "
   ]
  },
  {
   "cell_type": "code",
   "execution_count": null,
   "id": "8d8e8057",
   "metadata": {
    "vscode": {
     "languageId": "plaintext"
    }
   },
   "outputs": [],
   "source": [
    "import os "
   ]
  },
  {
   "cell_type": "code",
   "execution_count": null,
   "id": "f735d4fc",
   "metadata": {
    "vscode": {
     "languageId": "plaintext"
    }
   },
   "outputs": [],
   "source": [
    "chdir()"
   ]
  },
  {
   "cell_type": "markdown",
   "id": "15d9dd6b",
   "metadata": {},
   "source": [
    "## Entity Trial-runs "
   ]
  },
  {
   "cell_type": "code",
   "execution_count": null,
   "id": "33064c3e",
   "metadata": {
    "vscode": {
     "languageId": "plaintext"
    }
   },
   "outputs": [],
   "source": [
    "from dataclasses import dataclass\n",
    "from pathlib import Path\n",
    "\n",
    "@dataclass(frozen=True)\n",
    "class ModelTrainerConfig:\n",
    "    root_dir: Path\n",
    "    data_path: Path\n",
    "    model_ckpt: Path\n",
    "    num_train_epochs: int\n",
    "    warmup_steps: int \n",
    "    per_device_train_batch_size: int \n",
    "    weight_decay: float\n",
    "    logging_steps: int \n",
    "    evaluation_strategy: str \n",
    "    eval_steps: int \n",
    "    save_steps: float\n",
    "    gradient_accumulation_steps: int\n"
   ]
  },
  {
   "cell_type": "markdown",
   "id": "325ed1b9",
   "metadata": {},
   "source": [
    "## ConfigurationManager Trial-runs "
   ]
  },
  {
   "cell_type": "code",
   "execution_count": null,
   "id": "473cbb50",
   "metadata": {
    "vscode": {
     "languageId": "plaintext"
    }
   },
   "outputs": [],
   "source": [
    "#importing all project paths and modules necessary for project configurations \n",
    "from textSummerizer.constants import  *\n",
    "from textSummerizer.utils.common import read_yaml, create_directories"
   ]
  },
  {
   "cell_type": "code",
   "execution_count": null,
   "id": "2e537474",
   "metadata": {
    "vscode": {
     "languageId": "plaintext"
    }
   },
   "outputs": [],
   "source": [
    "#Updating the configuration file \n",
    "class ConfigurationManager:\n",
    "    def __init__(\n",
    "        self, \n",
    "        config_filepath = CONFIG_FILE_PATH, \n",
    "        params_filepath = PARAMS_FILE_PATH,\n",
    "        schema_filepath = SCHEMA_FILE_PATH):\n",
    "\n",
    "        self.config = read_yaml(config_filepath)\n",
    "        self.params = read_yaml(params_filepath)\n",
    "        self.schema = read_yaml(schema_filepath)\n",
    "       \n",
    "        create_directories([self.config.artifacts_root])\n",
    "    \n",
    "    def get_model_trainer_config(self) -> ModelTrainerConfig:\n",
    "        config = self.config.model_trainer \n",
    "        params=self.params.TrainingArguments\n",
    "        \n",
    "        create_directories([config.root_dir])\n",
    "        \n",
    "        model_trainer_config = ModelTrainerConfig(\n",
    "            root_dir=config.root_dir,\n",
    "            data_path=config.data_path, \n",
    "            model_ckpt=config.model_ckpt,\n",
    "            num_train_epochs=params.num_train_epochs,\n",
    "            warmup_steps=params.warmup_steps, \n",
    "            per_device_train_batch_size=params.per_device_train_batch_size, \n",
    "            weight_decay=params.weight_decay,\n",
    "            logging_steps=params.logging_steps, \n",
    "            evaluation_strategy=params.evaluation_strategy,\n",
    "            eval_steps=params.eval_steps,\n",
    "            save_step =params.save_steps,\n",
    "            gradient_accumulation_steps=params.gradient_accumulation_steps\n",
    "        )\n",
    "        return model_trainer_config"
   ]
  },
  {
   "cell_type": "markdown",
   "id": "ac6e1848",
   "metadata": {},
   "source": [
    "## Componets Trial-runs "
   ]
  },
  {
   "cell_type": "code",
   "execution_count": null,
   "id": "b24e1807",
   "metadata": {
    "vscode": {
     "languageId": "plaintext"
    }
   },
   "outputs": [],
   "source": [
    "#Importing dependencies \n",
    "from transfomers import TrainingArguments, Trainer\n",
    "from transfomers import DataCollatorForSeq25eq\n",
    "from transfomers import AutoModelForSeq25eqLM, AutoTokenizer\n",
    "from datasets import load_dataset, load_from_disk\n",
    "import torch "
   ]
  },
  {
   "cell_type": "code",
   "execution_count": null,
   "id": "0afff2f5",
   "metadata": {
    "vscode": {
     "languageId": "plaintext"
    }
   },
   "outputs": [],
   "source": [
    "class ModelTrainer: \n",
    "    def __init__(self, config: ModelTrainerConfig):\n",
    "        self.config = config\n",
    "        self.tokenizer=AutoTokenizer.from_pretrained(config.tokenizer_name)\n",
    "\n",
    "    def train(self):\n",
    "        device= \"cuba\" if tourch.cuba.is_vailable() else \"cpu\"\n",
    "        tokenizer = AutoTokenizer.from_pretrained(self.config.model_ckpt)\n",
    "        model_pegasus=AutoModelForSeq25eqLM.from_pretrained(self.config.model_ckpt).to(device)\n",
    "        seq2seq_data_collator=DataCollatorForSeq25eq(tokenizer, model=model_pegasus)\n",
    "\n",
    "        #loading data \n",
    "        data_samsum_pt =load_from_disk(self.config.data_path)\n",
    "\n",
    "        trainer_args=TrainingArguments(\n",
    "            output_dir=self.config.root_dir,\n",
    "            num_train_epochs=self.config.num_train_epochs,\n",
    "            warmup_steps=self.config.warmup_steps, \n",
    "            per_device_train_batch_size=self.config.per_device_train_batch_size, \n",
    "            weight_decay=self.config.weight_decay,\n",
    "            logging_steps=self.config.logging_steps, \n",
    "            evaluation_strategy=self.config.evaluation_strategy,\n",
    "            eval_steps=self.config.eval_steps,\n",
    "            save_step =self.config.save_steps,\n",
    "            gradient_accumulation_steps=self.config.gradient_accumulation_steps\n",
    "        )\n",
    "\n",
    "        trainer = Trainer(\n",
    "            model=model_pegasus, \n",
    "            args=trainer_args, \n",
    "            tokenizer=tokenizer, \n",
    "            data_collator=seq2seq_data_collator, \n",
    "            train_dataset=data_samsum_pt[\"test\"], \n",
    "            eval_dataset=data_samsum_pt[\"validation\"]\n",
    "        )\n",
    "        \n",
    "        trainer.train()\n",
    "\n",
    "        #save model \n",
    "        model_pegasus.save_pretrained(os.path.join(self.config.root_dir, \"pegasus-samsum-model\"))\n",
    "        #save tokenizer\n",
    "        tokenizer.save_pretrained(os.path.join(self.config.root_dir, \"tokenizer\"))"
   ]
  },
  {
   "cell_type": "markdown",
   "id": "3bffc233",
   "metadata": {},
   "source": [
    "## Pipeline Trial-runs "
   ]
  },
  {
   "cell_type": "code",
   "execution_count": null,
   "id": "76222d0e",
   "metadata": {
    "vscode": {
     "languageId": "plaintext"
    }
   },
   "outputs": [],
   "source": [
    "try:\n",
    "    config = ConfigurationManager()\n",
    "    model_trainer_config =config.get_model_trainer_config()\n",
    "    model_trainer_config = ModelTrainer(config=model_trainer_config)\n",
    "    model_trainer_config.train()\n",
    "except Exception as e:\n",
    "    raise e"
   ]
  }
 ],
 "metadata": {
  "language_info": {
   "name": "python"
  }
 },
 "nbformat": 4,
 "nbformat_minor": 5
}
