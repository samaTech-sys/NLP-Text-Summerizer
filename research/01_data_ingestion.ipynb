{
 "cells": [
  {
   "cell_type": "markdown",
   "id": "b185d1c9",
   "metadata": {},
   "source": [
    "## Data ingential trial runs\n"
   ]
  },
  {
   "cell_type": "code",
   "execution_count": 71,
   "id": "70bef72d",
   "metadata": {},
   "outputs": [],
   "source": [
    "import os "
   ]
  },
  {
   "cell_type": "code",
   "execution_count": 72,
   "id": "f2798456",
   "metadata": {},
   "outputs": [],
   "source": [
    "os.chdir(r\"C:\\Users\\USER\\Desktop\\MLDefaults\\NLP-Text-Summerizer\")"
   ]
  },
  {
   "cell_type": "markdown",
   "id": "6f294c11",
   "metadata": {},
   "source": [
    "## Entity Trial-runs "
   ]
  },
  {
   "cell_type": "code",
   "execution_count": 73,
   "id": "3f227ddc",
   "metadata": {},
   "outputs": [],
   "source": [
    "#Defining code for our entity. An entity is a return type of a function \n",
    "from dataclasses import dataclass\n",
    "from pathlib import Path \n",
    "\n",
    "@dataclass(frozen=True)\n",
    "class DataIngestionConfig:\n",
    "    root_dir: Path \n",
    "    source_url: str\n",
    "    local_data_file: str\n",
    "    unzip_dir: str"
   ]
  },
  {
   "cell_type": "markdown",
   "id": "2fb8b46b",
   "metadata": {},
   "source": [
    "## ConfigurationManager Trial-runs "
   ]
  },
  {
   "cell_type": "code",
   "execution_count": 74,
   "id": "a2f28d76",
   "metadata": {},
   "outputs": [],
   "source": [
    "#Code for Cinfiguration manager\n",
    "from textSummerizer.constants import *\n",
    "from textSummerizer.utils.common import read_yaml, create_directories "
   ]
  },
  {
   "cell_type": "code",
   "execution_count": 75,
   "id": "790108dc",
   "metadata": {},
   "outputs": [],
   "source": [
    "#Updating the configuration file \n",
    "class ConfigurationManager:\n",
    "    def __init__(\n",
    "        self, \n",
    "        config_filepath = CONFIG_FILE_PATH, \n",
    "        params_filepath = PARAMS_FILE_PATH):\n",
    "\n",
    "        self.config = read_yaml(config_filepath)\n",
    "        self.params = read_yaml(params_filepath)\n",
    "       \n",
    "        create_directories([self.config.artifacts_root])\n",
    "    \n",
    "    def get_data_ingestion_config(self) -> DataIngestionConfig:\n",
    "        config = self.config.data_ingestion\n",
    "        create_directories([config.root_dir])\n",
    "        \n",
    "        data_ingestion_config = DataIngestionConfig(\n",
    "            root_dir=config.root_dir,\n",
    "            source_url=config.source_url,\n",
    "            local_data_file=config.local_data_file, \n",
    "            unzip_dir=config.unzip_dir\n",
    "        )\n",
    "        return data_ingestion_config"
   ]
  },
  {
   "cell_type": "markdown",
   "id": "80032681",
   "metadata": {},
   "source": [
    "## Componets Module Trail-runs"
   ]
  },
  {
   "cell_type": "code",
   "execution_count": 76,
   "id": "14bf69a9",
   "metadata": {},
   "outputs": [],
   "source": [
    "#Importing dependencies \n",
    "import os \n",
    "from urllib import request \n",
    "import zipfile \n",
    "from textSummerizer.logging import logger\n",
    "from textSummerizer.utils.common import get_size"
   ]
  },
  {
   "cell_type": "code",
   "execution_count": 77,
   "id": "9c17776e",
   "metadata": {},
   "outputs": [],
   "source": [
    "class DataIngestion: \n",
    "    def __init__(self, config: DataIngestionConfig):\n",
    "        self.config=config\n",
    "\n",
    "    def download_file(self): \n",
    "        if not os.path.exists(self.config.local_data_file):\n",
    "            filename, headers = request.urlretrieve(\n",
    "                url = self.config.source_url, \n",
    "                filename = self.config.local_data_file\n",
    "            )\n",
    "            logger.info(f\"{filename} downloaded with the following \\n{headers}\")\n",
    "        else:\n",
    "            logger.info(f\"File already exists of size: {get_size(Path(self.config.local_data_file))}\")\n",
    "\n",
    "    def extract_zip_file(self):\n",
    "        unzip_path=self.config.unzip_dir\n",
    "        os.makedirs(unzip_path, exist_ok=True)\n",
    "        with zipfile.ZipFile(self.config.local_data_file, 'r') as zip_ref:\n",
    "            zip_ref.extractall(unzip_path)\n"
   ]
  },
  {
   "cell_type": "code",
   "execution_count": 79,
   "id": "6189b525",
   "metadata": {},
   "outputs": [
    {
     "name": "stdout",
     "output_type": "stream",
     "text": [
      "[2025-05-26 12:07:48,001: INFO: common: yaml_file: config\\config.yaml loaded successfully]\n",
      "[2025-05-26 12:07:48,036: INFO: common: yaml_file: params.yaml loaded successfully]\n",
      "[2025-05-26 12:07:48,047: INFO: common: Created directory at: artifacts]\n",
      "[2025-05-26 12:07:48,048: INFO: common: Created directory at: artifacts/data_ingestion]\n",
      "[2025-05-26 12:07:48,060: INFO: 1357720767: File already exists of size: ~8181 KB]\n"
     ]
    }
   ],
   "source": [
    "#Pipeline \n",
    "try:\n",
    "    config =ConfigurationManager()\n",
    "    data_ingestion_config = config.get_data_ingestion_config()\n",
    "    data_ingestion = DataIngestion(config=data_ingestion_config)\n",
    "    data_ingestion.download_file()\n",
    "    data_ingestion.extract_zip_file()\n",
    "except Exception as e:\n",
    "    raise e"
   ]
  }
 ],
 "metadata": {
  "kernelspec": {
   "display_name": "NLPTextSummerizer",
   "language": "python",
   "name": "python3"
  },
  "language_info": {
   "codemirror_mode": {
    "name": "ipython",
    "version": 3
   },
   "file_extension": ".py",
   "mimetype": "text/x-python",
   "name": "python",
   "nbconvert_exporter": "python",
   "pygments_lexer": "ipython3",
   "version": "3.9.22"
  }
 },
 "nbformat": 4,
 "nbformat_minor": 5
}
