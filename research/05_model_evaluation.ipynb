{
 "cells": [
  {
   "cell_type": "markdown",
   "id": "52100295",
   "metadata": {},
   "source": [
    "## Model Evaluation Trial-runs "
   ]
  },
  {
   "cell_type": "code",
   "execution_count": null,
   "metadata": {
    "vscode": {
     "languageId": "plaintext"
    }
   },
   "outputs": [],
   "source": [
    "import os "
   ]
  },
  {
   "cell_type": "code",
   "execution_count": null,
   "id": "10a5cf53",
   "metadata": {
    "vscode": {
     "languageId": "plaintext"
    }
   },
   "outputs": [],
   "source": [
    "chdir()"
   ]
  },
  {
   "cell_type": "markdown",
   "id": "476fce00",
   "metadata": {},
   "source": [
    "## Entity Trial-runs "
   ]
  },
  {
   "cell_type": "code",
   "execution_count": null,
   "id": "c9b29a64",
   "metadata": {
    "vscode": {
     "languageId": "plaintext"
    }
   },
   "outputs": [],
   "source": [
    "from dataclasses import dataclass\n",
    "from pathlib import Path\n",
    "\n",
    "@dataclass(frozen=True)\n",
    "class ModelEvaluationConfig:\n",
    "    root_dir: Path\n",
    "    data_path: Path\n",
    "    model_path: Path\n",
    "    tokenizer_path: Path \n",
    "    metric_file_name: Path"
   ]
  },
  {
   "cell_type": "markdown",
   "id": "bd5f9a02",
   "metadata": {},
   "source": [
    "## ConfigurationManager Trial-runs "
   ]
  },
  {
   "cell_type": "code",
   "execution_count": null,
   "id": "dd4f974f",
   "metadata": {
    "vscode": {
     "languageId": "plaintext"
    }
   },
   "outputs": [],
   "source": [
    "#importing all project paths and modules necessary for project configurations \n",
    "from textSummerizer.constants import  *\n",
    "from textSummerizer.utils.common import read_yaml, create_directories"
   ]
  },
  {
   "cell_type": "markdown",
   "id": "904a7a04",
   "metadata": {},
   "source": [
    "#Updating the configuration file \n",
    "class ConfigurationManager:\n",
    "    def __init__(\n",
    "        self, \n",
    "        config_filepath = CONFIG_FILE_PATH, \n",
    "        params_filepath = PARAMS_FILE_PATH,\n",
    "        schema_filepath = SCHEMA_FILE_PATH):\n",
    "\n",
    "        self.config = read_yaml(config_filepath)\n",
    "        self.params = read_yaml(params_filepath)\n",
    "        self.schema = read_yaml(schema_filepath)\n",
    "       \n",
    "        create_directories([self.config.artifacts_root])\n",
    "    \n",
    "    def get_model_evaluation_config(self) -> ModelEvaluationConfig:\n",
    "        config = self.config.model_evaluation \n",
    "        \n",
    "        create_directories([config.root_dir])\n",
    "        \n",
    "        model_evaluation_config = ModelEvaluationConfig(\n",
    "            root_dir=config.root_dir,\n",
    "            data_path=config.data_path,\n",
    "            model_path=config.model_path,\n",
    "            tokenizer_path=config.tokenizer_path, \n",
    "            metric_file_name=config.metric_file_name\n",
    "            \n",
    "        )\n",
    "        return model_evaluation_config"
   ]
  },
  {
   "cell_type": "markdown",
   "id": "357ac32c",
   "metadata": {},
   "source": [
    "## Components Trial-runs "
   ]
  },
  {
   "cell_type": "code",
   "execution_count": null,
   "id": "f58a53be",
   "metadata": {
    "vscode": {
     "languageId": "plaintext"
    }
   },
   "outputs": [],
   "source": [
    "#Importing labraries \n",
    "from transfomers import AutoModelForSeq25eqLM, AutoTokenizer\n",
    "from datasets import load_dataset, load_from_disk, load_metric \n",
    "import torch\n",
    "import pandas as pd\n",
    "from tqdm import tqdm  "
   ]
  },
  {
   "cell_type": "code",
   "execution_count": null,
   "id": "ac6b89b7",
   "metadata": {
    "vscode": {
     "languageId": "plaintext"
    }
   },
   "outputs": [],
   "source": [
    "class ModelEvaluation: \n",
    "    def __init__(self, config: ModelEvaluationConfig):\n",
    "        self.config = config\n",
    "    \n",
    "    def generate_batch_sized_chunks(self, list_of_elements, batch_size): \n",
    "        \"\"\"Split the dataset into smaller batches that we can process simultaneously\n",
    "        Yeild successive batched sized chunks from list_of_elements\n",
    "        \"\"\"\n",
    "        for i in range(0, len(list_of_elements), batch_size):\n",
    "            yield list_of_elements[i : i + batch_size]\n",
    "\n",
    "    def calculate_metric_on_test_ds(self, dataset, metric, model, tokenizer,\n",
    "        batch_size=16, device=\"cuba\" if torch.cuda.is_vailable() else \"cpu\", \n",
    "        column_text=\"article\", column_summary=\"highlights\"):\n",
    "\n",
    "        article_batches=list(self.generate_batch_sized_chunks(dataset[column_text], batch_size))\n",
    "        target_batches=list(self.generate_batch_sized_chunks(dataset[column_summary], batch_size))\n",
    "\n",
    "        for article_batch, target_batch in tqdm(\n",
    "            zip(article_batches, target_batches),\n",
    "            total=len(article_batches)\n",
    "        ):\n",
    "\n",
    "        inputs = tokenizer(article_batch, max_length=1024, \n",
    "            truncation=True,padding=\"max_length\", return_tensors=\"pt\")\n",
    "\n",
    "        summaries= model.generate(\n",
    "            input_ids=inputs[\"input_ids\"].to(device), \n",
    "            attention_mask=inputs[\"attention_mask\"].to(device),\n",
    "            length_penalt=0.8,#ensures model does not generate sequences lower  \n",
    "            num_beans=8,\n",
    "            max_length=128\n",
    "        )\n",
    "\n",
    "            #Finally we decode the gerated text \n",
    "            #replace the token, and add decoded texts with reference to the metric \n",
    "            decoded_summaries = [tokenizer.decode(s, skip_special_tokens=True,\n",
    "                clean_up_tokenization_spaces=True) for s in summaries]\n",
    "\n",
    "                metric.add_batch(predictions=decoded_summaries, references=target_batch)\n",
    "            \n",
    "            #Finally compute and return GOUGE scores \n",
    "            score= metric.compute()\n",
    "            return score\n",
    "\n",
    "\n",
    "    def evaluate(self): \n",
    "        device = \"cuba\" if torch.cuda.is_vailable() else \"cpu\"\n",
    "        tokenizer = AutoTokenizer.from_predicted(self.config.tokenizer_path)\n",
    "        model_pegasus= AutoModelSeq25eqLM.from_predicted(self.config.model_path).to(device) \n",
    "\n",
    "        #Loading data \n",
    "        dataset_samsum_pt = load_from_disk(self.config.data_path)\n",
    "\n",
    "        rouge_names = [\"rouge1\", \"rouge2\", \"rougel\", \"rougelsum\"]\n",
    "\n",
    "        rouge_metric = load_metric('rouge')\n",
    "\n",
    "        score = self.calculate_metric_on_test_ds(\n",
    "            dataset_samsum_pt['test'][0:10],\n",
    "            rouge_metric,\n",
    "            model_pegasus,\n",
    "            tokenizer,\n",
    "            batch_size=2,\n",
    "            column_text=,\n",
    "\n",
    "        )\n",
    "        \n",
    "        rouge_dict =dict((rn, score[rn].mid.fmeasure) for rn in rouge_names)\n",
    "        df = pd.DataFrame(rouge_dict, index=['pegasus'])\n",
    "        df.to_csv(self.config.metric_file_name, index=False)\n"
   ]
  },
  {
   "cell_type": "markdown",
   "id": "bfb3fa13",
   "metadata": {},
   "source": [
    "## Pipeline Trial-runs "
   ]
  },
  {
   "cell_type": "code",
   "execution_count": null,
   "id": "5008e11e",
   "metadata": {
    "vscode": {
     "languageId": "plaintext"
    }
   },
   "outputs": [],
   "source": [
    "try:\n",
    "    config = ConfigurationManager()\n",
    "    model_evaluation_config =config.get_model_evaluation_config()\n",
    "    model_evaluation_config = ModelEvaluation(config=model_evaluation_config)\n",
    "    model_evaluation_config.evaluate()\n",
    "except Exception as e:\n",
    "    raise e"
   ]
  }
 ],
 "metadata": {
  "language_info": {
   "name": "python"
  }
 },
 "nbformat": 4,
 "nbformat_minor": 5
}
