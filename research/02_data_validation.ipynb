{
 "cells": [
  {
   "cell_type": "markdown",
   "id": "dfc8d318",
   "metadata": {},
   "source": [
    "## Data Validation Trial-runs \n"
   ]
  },
  {
   "cell_type": "code",
   "execution_count": 1,
   "id": "eec58e20",
   "metadata": {},
   "outputs": [],
   "source": [
    "import os"
   ]
  },
  {
   "cell_type": "code",
   "execution_count": 2,
   "id": "63712560",
   "metadata": {},
   "outputs": [],
   "source": [
    "os.chdir(r\"C:\\Users\\USER\\Desktop\\MLDefaults\\NLP-Text-Summerizer\")"
   ]
  },
  {
   "cell_type": "code",
   "execution_count": 3,
   "id": "213c156a",
   "metadata": {},
   "outputs": [],
   "source": [
    "#Preparing my entity: Entity defined return type of each of the functions. \n",
    "from dataclasses import dataclass\n",
    "from pathlib import Path\n",
    "\n",
    "@dataclass(frozen=True)\n",
    "class DataValidationConfig:\n",
    "    root_dir: Path\n",
    "    STATUS_FILE: str\n",
    "    ALL_REQUIRED_FILES: list "
   ]
  },
  {
   "cell_type": "markdown",
   "id": "ed224832",
   "metadata": {},
   "source": [
    "## ConfigurationManager Trial-runs "
   ]
  },
  {
   "cell_type": "code",
   "execution_count": 4,
   "id": "37e83da9",
   "metadata": {},
   "outputs": [],
   "source": [
    "#importing all project paths and modules necessary for project configurations \n",
    "from textSummerizer.constants import  *\n",
    "from textSummerizer.utils.common import read_yaml, create_directories\n"
   ]
  },
  {
   "cell_type": "code",
   "execution_count": null,
   "id": "c86f4ded",
   "metadata": {},
   "outputs": [],
   "source": [
    "#Updating the configuration file \n",
    "class ConfigurationManager:\n",
    "    def __init__(\n",
    "        self, \n",
    "        config_filepath = CONFIG_FILE_PATH, \n",
    "        params_filepath = PARAMS_FILE_PATH):\n",
    "\n",
    "        self.config = read_yaml(config_filepath)\n",
    "        self.params = read_yaml(params_filepath)\n",
    "       \n",
    "        create_directories([self.config.artifacts_root])\n",
    "    \n",
    "    def get_data_validation_config(self) -> DataValidationConfig:\n",
    "        config = self.config.data_validation\n",
    "        create_directories([config.root_dir])\n",
    "        \n",
    "        data_validation_config = DataValidationConfig(\n",
    "            root_dir=config.root_dir,\n",
    "            STATUS_FILE=config.STATUS_FILE,\n",
    "            ALL_REQUIRED_FILES=config.ALL_REQUIRED_FILES \n",
    "        )\n",
    "        return data_validation_config"
   ]
  },
  {
   "cell_type": "markdown",
   "id": "75e43a65",
   "metadata": {},
   "source": [
    "## Components Trial-runs "
   ]
  },
  {
   "cell_type": "code",
   "execution_count": 6,
   "id": "818f0482",
   "metadata": {},
   "outputs": [],
   "source": [
    "import os \n",
    "from textSummerizer.logging import logger"
   ]
  },
  {
   "cell_type": "code",
   "execution_count": 7,
   "id": "a5c54513",
   "metadata": {},
   "outputs": [],
   "source": [
    "class DataValidation: \n",
    "    def __init__(self, config: DataValidationConfig):\n",
    "        self.config = config\n",
    "    \n",
    "    def validate_all_files_exist(self)-> bool:\n",
    "        try: \n",
    "            validation_status = None\n",
    "            all_files = os.listdir(os.path.join(\"artifacts\", \"data_ingestion\", \"samsum_dataset\"))\n",
    "\n",
    "            for file in all_files: \n",
    "                if file not in self.config.ALL_REQUIRED_FILES:\n",
    "                    validation_status=False\n",
    "                    with open(self.config.STATUS_FILE, 'w') as f:\n",
    "                            f.write(f\"validation status: {validation_status}\")\n",
    "                else: \n",
    "                    validation_status = True\n",
    "                    with open(self.config.STATUS_FILE, 'w') as f:\n",
    "                            f.write(f\"validation status: {validation_status}\")\n",
    "            return validation_status\n",
    "        except Exception as e: \n",
    "            raise e \n",
    "                    "
   ]
  },
  {
   "cell_type": "code",
   "execution_count": 8,
   "id": "7084d006",
   "metadata": {},
   "outputs": [
    {
     "name": "stdout",
     "output_type": "stream",
     "text": [
      "[2025-05-26 12:10:04,972: INFO: common: yaml_file: config\\config.yaml loaded successfully]\n",
      "[2025-05-26 12:10:04,983: INFO: common: yaml_file: params.yaml loaded successfully]\n",
      "[2025-05-26 12:10:04,987: INFO: common: Created directory at: artifacts]\n",
      "[2025-05-26 12:10:04,994: INFO: common: Created directory at: artifacts/data_validation]\n"
     ]
    }
   ],
   "source": [
    "try: \n",
    "    config = ConfigurationManager()\n",
    "    data_validation_config = config.get_data_validation_config()\n",
    "    data_validation = DataValidation(config=data_validation_config)\n",
    "    data_validation.validate_all_files_exist()\n",
    "except Exception as e:\n",
    "    raise e"
   ]
  }
 ],
 "metadata": {
  "kernelspec": {
   "display_name": "NLPTextSummerizer",
   "language": "python",
   "name": "python3"
  },
  "language_info": {
   "codemirror_mode": {
    "name": "ipython",
    "version": 3
   },
   "file_extension": ".py",
   "mimetype": "text/x-python",
   "name": "python",
   "nbconvert_exporter": "python",
   "pygments_lexer": "ipython3",
   "version": "3.9.22"
  }
 },
 "nbformat": 4,
 "nbformat_minor": 5
}
